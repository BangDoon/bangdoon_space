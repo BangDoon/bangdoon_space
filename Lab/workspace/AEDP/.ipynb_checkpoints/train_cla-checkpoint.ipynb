{
 "cells": [
  {
   "cell_type": "code",
   "execution_count": 38,
   "metadata": {
    "executionInfo": {
     "elapsed": 12033,
     "status": "ok",
     "timestamp": 1644907312092,
     "user": {
      "displayName": "김병준",
      "photoUrl": "https://lh3.googleusercontent.com/a/default-user=s64",
      "userId": "07650909474585417648"
     },
     "user_tz": -540
    },
    "id": "sTK6nDBYO1fW"
   },
   "outputs": [],
   "source": [
    "import numpy as np\n",
    "import pandas as pd\n",
    "\n",
    "import tensorflow as tf\n",
    "\n",
    "from tensorflow.keras.optimizers import Adam, RMSprop\n",
    "\n",
    "import matplotlib.pyplot as plt\n",
    "import seaborn as sns\n",
    "\n",
    "from keras.utils import np_utils\n",
    "from sklearn.preprocessing import LabelEncoder\n",
    "from sklearn.model_selection import train_test_split\n",
    "\n",
    "import importlib\n",
    "\n",
    "import my_models as mds"
   ]
  },
  {
   "cell_type": "code",
   "execution_count": 26,
   "metadata": {
    "executionInfo": {
     "elapsed": 16780,
     "status": "ok",
     "timestamp": 1644907328843,
     "user": {
      "displayName": "김병준",
      "photoUrl": "https://lh3.googleusercontent.com/a/default-user=s64",
      "userId": "07650909474585417648"
     },
     "user_tz": -540
    },
    "id": "5a6rvjv6O6sD"
   },
   "outputs": [],
   "source": [
    "#x_data =  np.load('/content/drive/MyDrive/Lab/AEDP/X.npy')\n",
    "x_data =  np.load('./data/X_none_C.npy')\n",
    "y_data =  np.load('./data/Y_none_C.npy')"
   ]
  },
  {
   "cell_type": "code",
   "execution_count": 27,
   "metadata": {
    "colab": {
     "base_uri": "https://localhost:8080/"
    },
    "executionInfo": {
     "elapsed": 7278,
     "status": "ok",
     "timestamp": 1644907336110,
     "user": {
      "displayName": "김병준",
      "photoUrl": "https://lh3.googleusercontent.com/a/default-user=s64",
      "userId": "07650909474585417648"
     },
     "user_tz": -540
    },
    "id": "kq1rfOyc3MER",
    "outputId": "a6cdf6f2-7bd8-4a2b-9d47-04ed569bb285"
   },
   "outputs": [
    {
     "name": "stdout",
     "output_type": "stream",
     "text": [
      "(3156, 150, 150, 1)\n",
      "(3156,)\n"
     ]
    }
   ],
   "source": [
    "x_data = x_data/255\n",
    "x_data = np.expand_dims(x_data, -1)          \n",
    "print(x_data.shape)\n",
    "print(y_data.shape)"
   ]
  },
  {
   "cell_type": "code",
   "execution_count": 28,
   "metadata": {
    "colab": {
     "base_uri": "https://localhost:8080/"
    },
    "executionInfo": {
     "elapsed": 6,
     "status": "ok",
     "timestamp": 1644907336110,
     "user": {
      "displayName": "김병준",
      "photoUrl": "https://lh3.googleusercontent.com/a/default-user=s64",
      "userId": "07650909474585417648"
     },
     "user_tz": -540
    },
    "id": "_KFa0BCzXwkM",
    "outputId": "41d0e2a8-67a8-4c52-c955-b1ec377a7816"
   },
   "outputs": [
    {
     "data": {
      "text/plain": [
       "(3156, 6)"
      ]
     },
     "execution_count": 28,
     "metadata": {},
     "output_type": "execute_result"
    }
   ],
   "source": [
    "# encode class values as integers\n",
    "encoder = LabelEncoder()\n",
    "encoder.fit(y_data)\n",
    "y_data = encoder.transform(y_data)\n",
    "\n",
    "# one-hot incoding\n",
    "y_data = np_utils.to_categorical(y_data) \n",
    "y_data = np.array(y_data).astype('int')\n",
    "y_data.shape"
   ]
  },
  {
   "cell_type": "code",
   "execution_count": 29,
   "metadata": {},
   "outputs": [
    {
     "data": {
      "text/plain": [
       "array([[0, 1, 0, 0, 0, 0],\n",
       "       [0, 1, 0, 0, 0, 0],\n",
       "       [0, 1, 0, 0, 0, 0],\n",
       "       ...,\n",
       "       [1, 0, 0, 0, 0, 0],\n",
       "       [1, 0, 0, 0, 0, 0],\n",
       "       [1, 0, 0, 0, 0, 0]])"
      ]
     },
     "execution_count": 29,
     "metadata": {},
     "output_type": "execute_result"
    }
   ],
   "source": [
    "y_data"
   ]
  },
  {
   "cell_type": "code",
   "execution_count": 30,
   "metadata": {},
   "outputs": [
    {
     "name": "stdout",
     "output_type": "stream",
     "text": [
      "[0 1]\n"
     ]
    }
   ],
   "source": [
    "print(np.unique(y_data))"
   ]
  },
  {
   "cell_type": "code",
   "execution_count": 31,
   "metadata": {
    "executionInfo": {
     "elapsed": 7413,
     "status": "ok",
     "timestamp": 1644907343519,
     "user": {
      "displayName": "김병준",
      "photoUrl": "https://lh3.googleusercontent.com/a/default-user=s64",
      "userId": "07650909474585417648"
     },
     "user_tz": -540
    },
    "id": "NLcsWJwCEtSZ"
   },
   "outputs": [],
   "source": [
    "#data shuffle\n",
    "nRow = x_data.shape[0]\n",
    "idx_randmix = np.array(range(nRow))\n",
    "np.random.seed(99)\n",
    "np.random.shuffle(idx_randmix)\n",
    "x_data = x_data[idx_randmix, :, :, :]\n",
    "y_data = y_data[idx_randmix]"
   ]
  },
  {
   "cell_type": "code",
   "execution_count": 32,
   "metadata": {
    "colab": {
     "base_uri": "https://localhost:8080/"
    },
    "executionInfo": {
     "elapsed": 23,
     "status": "ok",
     "timestamp": 1644907343520,
     "user": {
      "displayName": "김병준",
      "photoUrl": "https://lh3.googleusercontent.com/a/default-user=s64",
      "userId": "07650909474585417648"
     },
     "user_tz": -540
    },
    "id": "zdgrpIuHFNj9",
    "outputId": "59c3357c-62a0-4024-f391-93bb5f7e9198"
   },
   "outputs": [
    {
     "name": "stdout",
     "output_type": "stream",
     "text": [
      "(3156, 150, 150, 1)\n",
      "(3156, 6)\n"
     ]
    }
   ],
   "source": [
    "print(x_data.shape)\n",
    "print(y_data.shape)"
   ]
  },
  {
   "cell_type": "code",
   "execution_count": 33,
   "metadata": {
    "executionInfo": {
     "elapsed": 19,
     "status": "ok",
     "timestamp": 1644907343520,
     "user": {
      "displayName": "김병준",
      "photoUrl": "https://lh3.googleusercontent.com/a/default-user=s64",
      "userId": "07650909474585417648"
     },
     "user_tz": -540
    },
    "id": "_N93ayyw4fYG"
   },
   "outputs": [],
   "source": [
    "n = round((len(x_data)*0.8))\n",
    "\n",
    "train = x_data[:n]\n",
    "label = y_data[:n]\n",
    "\n",
    "x_test = x_data[n:]\n",
    "y_test = y_data[n:]"
   ]
  },
  {
   "cell_type": "code",
   "execution_count": 34,
   "metadata": {
    "executionInfo": {
     "elapsed": 19,
     "status": "ok",
     "timestamp": 1644907343521,
     "user": {
      "displayName": "김병준",
      "photoUrl": "https://lh3.googleusercontent.com/a/default-user=s64",
      "userId": "07650909474585417648"
     },
     "user_tz": -540
    },
    "id": "BZkgaNhC4ruO"
   },
   "outputs": [],
   "source": [
    "m = round((len(train)*0.8))\n",
    "\n",
    "x_train = train[:m]\n",
    "y_train = label[:m]\n",
    "\n",
    "x_val = train[m:]\n",
    "y_val = label[m:]"
   ]
  },
  {
   "cell_type": "code",
   "execution_count": 35,
   "metadata": {
    "colab": {
     "base_uri": "https://localhost:8080/"
    },
    "executionInfo": {
     "elapsed": 409,
     "status": "ok",
     "timestamp": 1644907343912,
     "user": {
      "displayName": "김병준",
      "photoUrl": "https://lh3.googleusercontent.com/a/default-user=s64",
      "userId": "07650909474585417648"
     },
     "user_tz": -540
    },
    "id": "pruXWqVeZmtu",
    "outputId": "0d99eb3a-d3a2-461e-db9f-c2bdfef4f47e"
   },
   "outputs": [
    {
     "name": "stdout",
     "output_type": "stream",
     "text": [
      "x_train shape => (2020, 150, 150, 1)     y_train shape =>(2020, 6)\n",
      "x_val shape => (505, 150, 150, 1)     y_val shape =>(505, 6)\n",
      "x_test shape => (631, 150, 150, 1)     y_test shape =>(631, 6)\n"
     ]
    }
   ],
   "source": [
    "print(f'x_train shape => {x_train.shape}     y_train shape =>{y_train.shape}')\n",
    "print(f'x_val shape => {x_val.shape}     y_val shape =>{y_val.shape}')\n",
    "print(f'x_test shape => {x_test.shape}     y_test shape =>{y_test.shape}')"
   ]
  },
  {
   "cell_type": "code",
   "execution_count": 39,
   "metadata": {},
   "outputs": [],
   "source": [
    "class MyCallback(tf.keras.callbacks.Callback):\n",
    "\n",
    "    def on_epoch_end(self,epoch, logs=None):\n",
    "        if( epoch % 100 == 0 ):\n",
    "            print('epoch : {}    loss  : {:.4f}   acc : {:.4f}   val_loss  : {:.4f}    val_acc : {:.4f}'.format(epoch+1,logs['loss'],logs['accuracy'],logs['val_loss'],logs['val_accuracy']))\n",
    "            \n",
    "    def on_train_end(self,logs=None):\n",
    "        print('train END =>  loss  : {:.4f}    val_loss  : {:.4f}'.format(logs['loss'],logs['val_loss']))"
   ]
  },
  {
   "cell_type": "code",
   "execution_count": 40,
   "metadata": {
    "colab": {
     "background_save": true,
     "base_uri": "https://localhost:8080/"
    },
    "id": "foumKWn-F2NM"
   },
   "outputs": [
    {
     "name": "stderr",
     "output_type": "stream",
     "text": [
      "2022-03-16 16:52:18.002379: I tensorflow/stream_executor/cuda/cuda_gpu_executor.cc:936] successful NUMA node read from SysFS had negative value (-1), but there must be at least one NUMA node, so returning NUMA node zero\n",
      "2022-03-16 16:52:18.027188: I tensorflow/stream_executor/cuda/cuda_gpu_executor.cc:936] successful NUMA node read from SysFS had negative value (-1), but there must be at least one NUMA node, so returning NUMA node zero\n",
      "2022-03-16 16:52:18.027284: I tensorflow/stream_executor/cuda/cuda_gpu_executor.cc:936] successful NUMA node read from SysFS had negative value (-1), but there must be at least one NUMA node, so returning NUMA node zero\n",
      "2022-03-16 16:52:18.027867: I tensorflow/core/platform/cpu_feature_guard.cc:151] This TensorFlow binary is optimized with oneAPI Deep Neural Network Library (oneDNN) to use the following CPU instructions in performance-critical operations:  AVX2 FMA\n",
      "To enable them in other operations, rebuild TensorFlow with the appropriate compiler flags.\n",
      "2022-03-16 16:52:18.029366: I tensorflow/stream_executor/cuda/cuda_gpu_executor.cc:936] successful NUMA node read from SysFS had negative value (-1), but there must be at least one NUMA node, so returning NUMA node zero\n",
      "2022-03-16 16:52:18.029493: I tensorflow/stream_executor/cuda/cuda_gpu_executor.cc:936] successful NUMA node read from SysFS had negative value (-1), but there must be at least one NUMA node, so returning NUMA node zero\n",
      "2022-03-16 16:52:18.029584: I tensorflow/stream_executor/cuda/cuda_gpu_executor.cc:936] successful NUMA node read from SysFS had negative value (-1), but there must be at least one NUMA node, so returning NUMA node zero\n",
      "2022-03-16 16:52:18.331248: I tensorflow/stream_executor/cuda/cuda_gpu_executor.cc:936] successful NUMA node read from SysFS had negative value (-1), but there must be at least one NUMA node, so returning NUMA node zero\n",
      "2022-03-16 16:52:18.331380: I tensorflow/stream_executor/cuda/cuda_gpu_executor.cc:936] successful NUMA node read from SysFS had negative value (-1), but there must be at least one NUMA node, so returning NUMA node zero\n",
      "2022-03-16 16:52:18.331465: I tensorflow/stream_executor/cuda/cuda_gpu_executor.cc:936] successful NUMA node read from SysFS had negative value (-1), but there must be at least one NUMA node, so returning NUMA node zero\n",
      "2022-03-16 16:52:18.331538: I tensorflow/core/common_runtime/gpu/gpu_device.cc:1525] Created device /job:localhost/replica:0/task:0/device:GPU:0 with 22114 MB memory:  -> device: 0, name: NVIDIA GeForce RTX 3090, pci bus id: 0000:01:00.0, compute capability: 8.6\n"
     ]
    }
   ],
   "source": [
    "#reload libs\n",
    "importlib.reload(mds)\n",
    "\n",
    "\n",
    "model = mds.cnn_cla(x_data.shape[1:],6)\n",
    "opt = Adam(learning_rate=0.00001)\n",
    "\n",
    "model.compile(loss='categorical_crossentropy',\n",
    "             optimizer=opt,\n",
    "             metrics=['accuracy'])  \n",
    "\n",
    "#model.summary()"
   ]
  },
  {
   "cell_type": "code",
   "execution_count": null,
   "metadata": {
    "tags": []
   },
   "outputs": [
    {
     "name": "stderr",
     "output_type": "stream",
     "text": [
      "2022-03-16 16:52:28.512761: I tensorflow/stream_executor/cuda/cuda_dnn.cc:368] Loaded cuDNN version 8202\n",
      "2022-03-16 16:52:29.113861: I tensorflow/core/platform/default/subprocess.cc:304] Start cannot spawn child process: No such file or directory\n",
      "2022-03-16 16:52:29.698879: I tensorflow/stream_executor/cuda/cuda_blas.cc:1786] TensorFloat-32 will be used for the matrix multiplication. This will only be logged once.\n"
     ]
    },
    {
     "name": "stdout",
     "output_type": "stream",
     "text": [
      "epoch : 1    loss  : 3.2055    val_loss  : 1.8156\n",
      "epoch : 101    loss  : 1.6986    val_loss  : 1.6544\n",
      "epoch : 201    loss  : 1.6286    val_loss  : 1.5827\n",
      "epoch : 301    loss  : 1.5601    val_loss  : 1.5130\n",
      "epoch : 401    loss  : 1.4680    val_loss  : 1.4464\n",
      "epoch : 501    loss  : 1.4101    val_loss  : 1.3955\n",
      "epoch : 601    loss  : 1.3645    val_loss  : 1.3478\n",
      "epoch : 701    loss  : 1.3290    val_loss  : 1.3114\n",
      "epoch : 801    loss  : 1.3019    val_loss  : 1.2925\n",
      "epoch : 901    loss  : 1.2745    val_loss  : 1.2601\n",
      "epoch : 1001    loss  : 1.2270    val_loss  : 1.2426\n",
      "epoch : 1101    loss  : 1.1888    val_loss  : 1.2299\n",
      "epoch : 1201    loss  : 1.1680    val_loss  : 1.2163\n",
      "epoch : 1301    loss  : 1.1412    val_loss  : 1.2081\n",
      "epoch : 1401    loss  : 1.1423    val_loss  : 1.2035\n",
      "epoch : 1501    loss  : 1.1052    val_loss  : 1.1922\n",
      "epoch : 1601    loss  : 1.0908    val_loss  : 1.1869\n",
      "epoch : 1701    loss  : 1.0482    val_loss  : 1.1735\n",
      "epoch : 1801    loss  : 1.0599    val_loss  : 1.1712\n",
      "epoch : 1901    loss  : 1.0309    val_loss  : 1.1621\n",
      "epoch : 2001    loss  : 0.9986    val_loss  : 1.1733\n",
      "epoch : 2101    loss  : 0.9958    val_loss  : 1.1586\n",
      "epoch : 2201    loss  : 0.9835    val_loss  : 1.1606\n",
      "epoch : 2301    loss  : 0.9785    val_loss  : 1.1629\n",
      "epoch : 2401    loss  : 0.9606    val_loss  : 1.1586\n",
      "epoch : 2501    loss  : 0.9486    val_loss  : 1.1506\n",
      "epoch : 2601    loss  : 0.9511    val_loss  : 1.1514\n",
      "epoch : 2701    loss  : 0.8993    val_loss  : 1.1553\n",
      "epoch : 2801    loss  : 0.9027    val_loss  : 1.1567\n",
      "epoch : 2901    loss  : 0.8974    val_loss  : 1.1549\n",
      "epoch : 3001    loss  : 0.8800    val_loss  : 1.1522\n",
      "epoch : 3101    loss  : 0.8535    val_loss  : 1.1564\n",
      "epoch : 3201    loss  : 0.8817    val_loss  : 1.1692\n",
      "epoch : 3301    loss  : 0.8664    val_loss  : 1.1520\n",
      "epoch : 3401    loss  : 0.8304    val_loss  : 1.1663\n",
      "epoch : 3501    loss  : 0.8348    val_loss  : 1.1697\n",
      "epoch : 3601    loss  : 0.8229    val_loss  : 1.1627\n",
      "epoch : 3701    loss  : 0.8322    val_loss  : 1.1773\n",
      "epoch : 3801    loss  : 0.7997    val_loss  : 1.1857\n",
      "epoch : 3901    loss  : 0.8117    val_loss  : 1.1752\n",
      "epoch : 4001    loss  : 0.7940    val_loss  : 1.1577\n",
      "epoch : 4101    loss  : 0.7829    val_loss  : 1.1628\n",
      "epoch : 4201    loss  : 0.7706    val_loss  : 1.1679\n",
      "epoch : 4301    loss  : 0.7819    val_loss  : 1.1896\n",
      "epoch : 4401    loss  : 0.7866    val_loss  : 1.1754\n",
      "epoch : 4501    loss  : 0.7673    val_loss  : 1.1784\n",
      "epoch : 4601    loss  : 0.7154    val_loss  : 1.1847\n",
      "epoch : 4701    loss  : 0.7258    val_loss  : 1.1870\n",
      "epoch : 4801    loss  : 0.7286    val_loss  : 1.1883\n",
      "epoch : 4901    loss  : 0.7525    val_loss  : 1.2077\n",
      "epoch : 5001    loss  : 0.7230    val_loss  : 1.2022\n",
      "epoch : 5101    loss  : 0.7056    val_loss  : 1.2016\n",
      "epoch : 5201    loss  : 0.6816    val_loss  : 1.2073\n",
      "epoch : 5301    loss  : 0.7099    val_loss  : 1.2049\n",
      "epoch : 5401    loss  : 0.6924    val_loss  : 1.2075\n",
      "epoch : 5501    loss  : 0.6978    val_loss  : 1.2098\n",
      "epoch : 5601    loss  : 0.6849    val_loss  : 1.2016\n",
      "epoch : 5701    loss  : 0.7257    val_loss  : 1.2127\n",
      "epoch : 5801    loss  : 0.6696    val_loss  : 1.2177\n",
      "epoch : 5901    loss  : 0.6757    val_loss  : 1.2266\n",
      "epoch : 6001    loss  : 0.6766    val_loss  : 1.2026\n",
      "epoch : 6101    loss  : 0.6775    val_loss  : 1.2274\n",
      "epoch : 6201    loss  : 0.7127    val_loss  : 1.2185\n",
      "epoch : 6301    loss  : 0.6443    val_loss  : 1.2192\n",
      "epoch : 6401    loss  : 0.6595    val_loss  : 1.2186\n",
      "epoch : 6501    loss  : 0.6734    val_loss  : 1.2366\n",
      "epoch : 6601    loss  : 0.6543    val_loss  : 1.2314\n",
      "epoch : 6701    loss  : 0.6177    val_loss  : 1.2182\n",
      "epoch : 6801    loss  : 0.6620    val_loss  : 1.2231\n",
      "epoch : 6901    loss  : 0.6151    val_loss  : 1.2306\n",
      "epoch : 7001    loss  : 0.6330    val_loss  : 1.2295\n",
      "epoch : 7101    loss  : 0.6419    val_loss  : 1.2146\n"
     ]
    }
   ],
   "source": [
    "history = model.fit(\n",
    "    x=x_train, y=y_train,\n",
    "    validation_data = (x_val, y_val),\n",
    "    epochs=8000,\n",
    "    batch_size=16,\n",
    "    verbose=0,\n",
    "    callbacks =[MyCallback()],\n",
    ")"
   ]
  },
  {
   "cell_type": "code",
   "execution_count": 34,
   "metadata": {
    "colab": {
     "background_save": true
    },
    "id": "Wx9Vqmdoaugp"
   },
   "outputs": [
    {
     "data": {
      "image/png": "[encoded data removed]",
      "text/plain": [
       "<Figure size 432x288 with 1 Axes>"
      ]
     },
     "metadata": {
      "needs_background": "light"
     },
     "output_type": "display_data"
    }
   ],
   "source": [
    "pd.DataFrame(history.history)[['loss', 'val_loss','accuracy', 'val_accuracy']].plot().set_ylim(0,3)\n",
    "plt.title('result');"
   ]
  },
  {
   "cell_type": "code",
   "execution_count": 35,
   "metadata": {
    "id": "YtV8_dq-k19J"
   },
   "outputs": [],
   "source": [
    "result = model.evaluate(x_test, y_test, verbose=0)"
   ]
  },
  {
   "cell_type": "code",
   "execution_count": 36,
   "metadata": {},
   "outputs": [
    {
     "name": "stdout",
     "output_type": "stream",
     "text": [
      "Test Loss : 1.221297025680542       Test Accuracy : 0.5280748605728149\n"
     ]
    }
   ],
   "source": [
    "print(f\"Test Loss : {result[0]}       Test Accuracy : {result[1]}\" )"
   ]
  },
  {
   "cell_type": "code",
   "execution_count": 37,
   "metadata": {},
   "outputs": [],
   "source": [
    "#Grad-CAM\n",
    "import cv2\n",
    "from IPython.display import Image, display\n",
    "from tensorflow import keras\n",
    "import math\n",
    "import tensorflow as tf\n",
    "import matplotlib.cm as cm"
   ]
  },
  {
   "cell_type": "code",
   "execution_count": 38,
   "metadata": {},
   "outputs": [
    {
     "name": "stdout",
     "output_type": "stream",
     "text": [
      "Model: \"model_65\"\n",
      "__________________________________________________________________________________________________\n",
      " Layer (type)                   Output Shape         Param #     Connected to                     \n",
      "==================================================================================================\n",
      " input_2 (InputLayer)           [(None, 250, 150, 1  0           []                               \n",
      "                                )]                                                                \n",
      "                                                                                                  \n",
      " random_flip_1 (RandomFlip)     (None, 250, 150, 1)  0           ['input_2[0][0]']                \n",
      "                                                                                                  \n",
      " conv2d_13 (Conv2D)             (None, 250, 150, 8)  80          ['random_flip_1[0][0]']          \n",
      "                                                                                                  \n",
      " max_pooling2d_5 (MaxPooling2D)  (None, 125, 75, 8)  0           ['conv2d_13[0][0]']              \n",
      "                                                                                                  \n",
      " conv2d_14 (Conv2D)             (None, 125, 75, 16)  144         ['max_pooling2d_5[0][0]']        \n",
      "                                                                                                  \n",
      " conv2d_15 (Conv2D)             (None, 125, 75, 16)  2320        ['conv2d_14[0][0]']              \n",
      "                                                                                                  \n",
      " batch_normalization_8 (BatchNo  (None, 125, 75, 16)  64         ['conv2d_15[0][0]']              \n",
      " rmalization)                                                                                     \n",
      "                                                                                                  \n",
      " activation_8 (Activation)      (None, 125, 75, 16)  0           ['batch_normalization_8[0][0]']  \n",
      "                                                                                                  \n",
      " conv2d_16 (Conv2D)             (None, 125, 75, 16)  2320        ['activation_8[0][0]']           \n",
      "                                                                                                  \n",
      " batch_normalization_9 (BatchNo  (None, 125, 75, 16)  64         ['conv2d_16[0][0]']              \n",
      " rmalization)                                                                                     \n",
      "                                                                                                  \n",
      " global_average_pooling2d_4 (Gl  (None, 16)          0           ['batch_normalization_9[0][0]']  \n",
      " obalAveragePooling2D)                                                                            \n",
      "                                                                                                  \n",
      " reshape_4 (Reshape)            (None, 1, 1, 16)     0           ['global_average_pooling2d_4[0][0\n",
      "                                                                 ]']                              \n",
      "                                                                                                  \n",
      " dense_11 (Dense)               (None, 1, 1, 2)      34          ['reshape_4[0][0]']              \n",
      "                                                                                                  \n",
      " dense_12 (Dense)               (None, 1, 1, 16)     48          ['dense_11[0][0]']               \n",
      "                                                                                                  \n",
      " multiply_4 (Multiply)          (None, 125, 75, 16)  0           ['batch_normalization_9[0][0]',  \n",
      "                                                                  'dense_12[0][0]']               \n",
      "                                                                                                  \n",
      " add_4 (Add)                    (None, 125, 75, 16)  0           ['conv2d_14[0][0]',              \n",
      "                                                                  'multiply_4[0][0]']             \n",
      "                                                                                                  \n",
      " activation_9 (Activation)      (None, 125, 75, 16)  0           ['add_4[0][0]']                  \n",
      "                                                                                                  \n",
      " max_pooling2d_6 (MaxPooling2D)  (None, 62, 37, 16)  0           ['activation_9[0][0]']           \n",
      "                                                                                                  \n",
      " conv2d_17 (Conv2D)             (None, 62, 37, 32)   544         ['max_pooling2d_6[0][0]']        \n",
      "                                                                                                  \n",
      " conv2d_18 (Conv2D)             (None, 62, 37, 32)   9248        ['conv2d_17[0][0]']              \n",
      "                                                                                                  \n",
      " batch_normalization_10 (BatchN  (None, 62, 37, 32)  128         ['conv2d_18[0][0]']              \n",
      " ormalization)                                                                                    \n",
      "                                                                                                  \n",
      " activation_10 (Activation)     (None, 62, 37, 32)   0           ['batch_normalization_10[0][0]'] \n",
      "                                                                                                  \n",
      " conv2d_19 (Conv2D)             (None, 62, 37, 32)   9248        ['activation_10[0][0]']          \n",
      "                                                                                                  \n",
      " batch_normalization_11 (BatchN  (None, 62, 37, 32)  128         ['conv2d_19[0][0]']              \n",
      " ormalization)                                                                                    \n",
      "                                                                                                  \n",
      " global_average_pooling2d_5 (Gl  (None, 32)          0           ['batch_normalization_11[0][0]'] \n",
      " obalAveragePooling2D)                                                                            \n",
      "                                                                                                  \n",
      " reshape_5 (Reshape)            (None, 1, 1, 32)     0           ['global_average_pooling2d_5[0][0\n",
      "                                                                 ]']                              \n",
      "                                                                                                  \n",
      " dense_13 (Dense)               (None, 1, 1, 4)      132         ['reshape_5[0][0]']              \n",
      "                                                                                                  \n",
      " dense_14 (Dense)               (None, 1, 1, 32)     160         ['dense_13[0][0]']               \n",
      "                                                                                                  \n",
      " multiply_5 (Multiply)          (None, 62, 37, 32)   0           ['batch_normalization_11[0][0]', \n",
      "                                                                  'dense_14[0][0]']               \n",
      "                                                                                                  \n",
      " add_5 (Add)                    (None, 62, 37, 32)   0           ['conv2d_17[0][0]',              \n",
      "                                                                  'multiply_5[0][0]']             \n",
      "                                                                                                  \n",
      " activation_11 (Activation)     (None, 62, 37, 32)   0           ['add_5[0][0]']                  \n",
      "                                                                                                  \n",
      " max_pooling2d_7 (MaxPooling2D)  (None, 31, 18, 32)  0           ['activation_11[0][0]']          \n",
      "                                                                                                  \n",
      " conv2d_20 (Conv2D)             (None, 31, 18, 64)   2112        ['max_pooling2d_7[0][0]']        \n",
      "                                                                                                  \n",
      " conv2d_21 (Conv2D)             (None, 31, 18, 64)   36928       ['conv2d_20[0][0]']              \n",
      "                                                                                                  \n",
      " batch_normalization_12 (BatchN  (None, 31, 18, 64)  256         ['conv2d_21[0][0]']              \n",
      " ormalization)                                                                                    \n",
      "                                                                                                  \n",
      " activation_12 (Activation)     (None, 31, 18, 64)   0           ['batch_normalization_12[0][0]'] \n",
      "                                                                                                  \n",
      " conv2d_22 (Conv2D)             (None, 31, 18, 64)   36928       ['activation_12[0][0]']          \n",
      "                                                                                                  \n",
      " batch_normalization_13 (BatchN  (None, 31, 18, 64)  256         ['conv2d_22[0][0]']              \n",
      " ormalization)                                                                                    \n",
      "                                                                                                  \n",
      " global_average_pooling2d_6 (Gl  (None, 64)          0           ['batch_normalization_13[0][0]'] \n",
      " obalAveragePooling2D)                                                                            \n",
      "                                                                                                  \n",
      " reshape_6 (Reshape)            (None, 1, 1, 64)     0           ['global_average_pooling2d_6[0][0\n",
      "                                                                 ]']                              \n",
      "                                                                                                  \n",
      " dense_15 (Dense)               (None, 1, 1, 8)      520         ['reshape_6[0][0]']              \n",
      "                                                                                                  \n",
      " dense_16 (Dense)               (None, 1, 1, 64)     576         ['dense_15[0][0]']               \n",
      "                                                                                                  \n",
      " multiply_6 (Multiply)          (None, 31, 18, 64)   0           ['batch_normalization_13[0][0]', \n",
      "                                                                  'dense_16[0][0]']               \n",
      "                                                                                                  \n",
      " add_6 (Add)                    (None, 31, 18, 64)   0           ['conv2d_20[0][0]',              \n",
      "                                                                  'multiply_6[0][0]']             \n",
      "                                                                                                  \n",
      " activation_13 (Activation)     (None, 31, 18, 64)   0           ['add_6[0][0]']                  \n",
      "                                                                                                  \n",
      " max_pooling2d_8 (MaxPooling2D)  (None, 15, 9, 64)   0           ['activation_13[0][0]']          \n",
      "                                                                                                  \n",
      " conv2d_23 (Conv2D)             (None, 15, 9, 128)   8320        ['max_pooling2d_8[0][0]']        \n",
      "                                                                                                  \n",
      " conv2d_24 (Conv2D)             (None, 15, 9, 128)   147584      ['conv2d_23[0][0]']              \n",
      "                                                                                                  \n",
      " batch_normalization_14 (BatchN  (None, 15, 9, 128)  512         ['conv2d_24[0][0]']              \n",
      " ormalization)                                                                                    \n",
      "                                                                                                  \n",
      " activation_14 (Activation)     (None, 15, 9, 128)   0           ['batch_normalization_14[0][0]'] \n",
      "                                                                                                  \n",
      " conv2d_25 (Conv2D)             (None, 15, 9, 128)   147584      ['activation_14[0][0]']          \n",
      "                                                                                                  \n",
      " batch_normalization_15 (BatchN  (None, 15, 9, 128)  512         ['conv2d_25[0][0]']              \n",
      " ormalization)                                                                                    \n",
      "                                                                                                  \n",
      " global_average_pooling2d_7 (Gl  (None, 128)         0           ['batch_normalization_15[0][0]'] \n",
      " obalAveragePooling2D)                                                                            \n",
      "                                                                                                  \n",
      " reshape_7 (Reshape)            (None, 1, 1, 128)    0           ['global_average_pooling2d_7[0][0\n",
      "                                                                 ]']                              \n",
      "                                                                                                  \n",
      " dense_17 (Dense)               (None, 1, 1, 16)     2064        ['reshape_7[0][0]']              \n",
      "                                                                                                  \n",
      " dense_18 (Dense)               (None, 1, 1, 128)    2176        ['dense_17[0][0]']               \n",
      "                                                                                                  \n",
      " multiply_7 (Multiply)          (None, 15, 9, 128)   0           ['batch_normalization_15[0][0]', \n",
      "                                                                  'dense_18[0][0]']               \n",
      "                                                                                                  \n",
      " add_7 (Add)                    (None, 15, 9, 128)   0           ['conv2d_23[0][0]',              \n",
      "                                                                  'multiply_7[0][0]']             \n",
      "                                                                                                  \n",
      " activation_15 (Activation)     (None, 15, 9, 128)   0           ['add_7[0][0]']                  \n",
      "                                                                                                  \n",
      " max_pooling2d_9 (MaxPooling2D)  (None, 7, 4, 128)   0           ['activation_15[0][0]']          \n",
      "                                                                                                  \n",
      " flatten_1 (Flatten)            (None, 3584)         0           ['max_pooling2d_9[0][0]']        \n",
      "                                                                                                  \n",
      " dropout_3 (Dropout)            (None, 3584)         0           ['flatten_1[0][0]']              \n",
      "                                                                                                  \n",
      " dense_19 (Dense)               (None, 300)          1075500     ['dropout_3[0][0]']              \n",
      "                                                                                                  \n",
      " dropout_4 (Dropout)            (None, 300)          0           ['dense_19[0][0]']               \n",
      "                                                                                                  \n",
      " dense_20 (Dense)               (None, 300)          90300       ['dropout_4[0][0]']              \n",
      "                                                                                                  \n",
      " dropout_5 (Dropout)            (None, 300)          0           ['dense_20[0][0]']               \n",
      "                                                                                                  \n",
      " dense_21 (Dense)               (None, 6)            1806        ['dropout_5[0][0]']              \n",
      "                                                                                                  \n",
      "==================================================================================================\n",
      "Total params: 1,578,596\n",
      "Trainable params: 1,577,636\n",
      "Non-trainable params: 960\n",
      "__________________________________________________________________________________________________\n"
     ]
    }
   ],
   "source": [
    "model.summary()"
   ]
  },
  {
   "cell_type": "code",
   "execution_count": 39,
   "metadata": {},
   "outputs": [],
   "source": [
    "def make_gradcam_heatmap(img_array, model, last_conv_layer_name, pred_index = None):\n",
    "    # First, we create a model that maps the input image to the activations\n",
    "    # of the last conv layer as well as the output predictions\n",
    "    grad_model = tf.keras.models.Model(\n",
    "        [model.inputs], [model.get_layer(last_conv_layer_name).output, model.output]\n",
    "    )\n",
    "\n",
    "    # Then, we compute the gradient of the top predicted class for our input image\n",
    "    # with respect to the activations of the last conv layer\n",
    "    with tf.GradientTape() as tape:\n",
    "        last_conv_layer_output, preds = grad_model(img_array,training = False)\n",
    "        if pred_index is None:\n",
    "            pred_index = tf.argmax(preds[0])\n",
    "        \n",
    "        class_channel = preds[:,pred_index]\n",
    "\n",
    "        #print(class_channel)\n",
    "\n",
    "    # This is the gradient of the output neuron (top predicted or chosen)\n",
    "    # with regard to the output feature map of the last conv layer\n",
    "    grads = tape.gradient(class_channel, last_conv_layer_output)\n",
    "\n",
    "    # This is a vector where each entry is the mean intensity of the gradient\n",
    "    # over a specific feature map channel\n",
    "    pooled_grads = tf.reduce_mean(grads, axis=(0, 1, 2))\n",
    "    \n",
    "    # We multiply each channel in the feature map array\n",
    "    # by \"how important this channel is\" with regard to the top predicted class\n",
    "    # then sum all the channels to obtain the heatmap class activation\n",
    "    last_conv_layer_output = last_conv_layer_output[0]\n",
    "    #print(last_conv_layer_output)\n",
    "    heatmap = last_conv_layer_output @ pooled_grads[..., tf.newaxis]\n",
    "    #print(heatmap)\n",
    "    heatmap = tf.squeeze(heatmap)\n",
    "    #print(heatmap)\n",
    "    # For visualization purpose, we will also normalize the heatmap between 0 & 1\n",
    "    heatmap = tf.maximum(heatmap, 0) / tf.math.reduce_max(heatmap)\n",
    "    #grad_model.summary()\n",
    "    return heatmap.numpy()"
   ]
  },
  {
   "cell_type": "code",
   "execution_count": 40,
   "metadata": {},
   "outputs": [],
   "source": [
    "# using img array  => shape=(batch, N, N', 1)\n",
    "def heatmap_process_2(img_array) :\n",
    "\n",
    "    preprocess_input = keras.applications.xception.preprocess_input\n",
    "\n",
    "    # Prepare image\n",
    "    #img_size = (256,512)\n",
    "    #img_array = preprocess_input(get_img_array(img_path, size=img_size))\n",
    "\n",
    "    #print(img_array.shape)\n",
    "\n",
    "\n",
    "    last_conv_layer_name = 'conv2d_25'\n",
    "    # Remove last layer's sigmoid\n",
    "    model.layers[-1].activation = None\n",
    "\n",
    "    # Print what the top predicted class is\n",
    "    preds = model.predict(img_array)\n",
    "    preds = np.argmax(preds)\n",
    "\n",
    "    # Generate class activation heatmap\n",
    "    #pred_index = 0 # 0=20  1=70\n",
    "    \n",
    "    heatmap = make_gradcam_heatmap(img_array, model, last_conv_layer_name)\n",
    "    \n",
    "    #Display heatmap\n",
    "    # plt.matshow(heatmap[idx])\n",
    "    # plt.show()\n",
    "\n",
    "    # plt.matshow(heatmap_sum)\n",
    "    # plt.show()\n",
    "\n",
    "    #print(heatmap)\n",
    "\n",
    "\n",
    "    return heatmap,preds"
   ]
  },
  {
   "cell_type": "code",
   "execution_count": 41,
   "metadata": {},
   "outputs": [],
   "source": [
    "# using img array  => shape=(N, N', 1)\n",
    "def save_and_display_gradcam_2(img, heatmap, cam_path=\"cam.jpg\", alpha=0.002):\n",
    "    # Load the original image\n",
    "    #img = keras.preprocessing.image.load_img(img_path)\n",
    "    #img = keras.preprocessing.image.img_to_array(img)\n",
    "    \n",
    "    # Rescale heatmap to a range 0-255\n",
    "    heatmap = np.uint8(255 * heatmap)\n",
    "\n",
    "    # Use jet colormap to colorize heatmap\n",
    "    jet = cm.get_cmap(\"jet\")\n",
    "\n",
    "    # Use RGB values of the colormap\n",
    "    jet_colors = jet(np.arange(256))[:, :3]\n",
    "    jet_heatmap = jet_colors[heatmap]\n",
    "\n",
    "    # Create an image with RGB colorized heatmap\n",
    "    jet_heatmap = keras.preprocessing.image.array_to_img(jet_heatmap)\n",
    "    jet_heatmap = jet_heatmap.resize((img.shape[1], img.shape[0]))\n",
    "    jet_heatmap = keras.preprocessing.image.img_to_array(jet_heatmap)\n",
    "\n",
    "    # Superimpose the heatmap on original image\n",
    "    superimposed_img = jet_heatmap * alpha + img\n",
    "    superimposed_img = keras.preprocessing.image.array_to_img(superimposed_img)\n",
    "\n",
    "    # Save the superimposed image\n",
    "    superimposed_img.save(cam_path)\n",
    "    \n",
    "    # Display Grad CAM \n",
    "    \n",
    "    display(Image(cam_path, width = 75, height=125))"
   ]
  },
  {
   "cell_type": "code",
   "execution_count": 42,
   "metadata": {},
   "outputs": [
    {
     "data": {
      "text/plain": [
       "(748, 250, 150, 1)"
      ]
     },
     "execution_count": 42,
     "metadata": {},
     "output_type": "execute_result"
    }
   ],
   "source": [
    "x_test.shape"
   ]
  },
  {
   "cell_type": "code",
   "execution_count": 43,
   "metadata": {},
   "outputs": [
    {
     "data": {
      "text/plain": [
       "(748, 6)"
      ]
     },
     "execution_count": 43,
     "metadata": {},
     "output_type": "execute_result"
    }
   ],
   "source": [
    "y_test.shape"
   ]
  },
  {
   "cell_type": "code",
   "execution_count": 51,
   "metadata": {},
   "outputs": [
    {
     "name": "stdout",
     "output_type": "stream",
     "text": [
      "1. target_value = 20대  ->  model's predictions mean => 20대\n"
     ]
    },
    {
     "data": {
      "image/jpeg": "[encoded data removed]",
      "text/plain": [
       "<IPython.core.display.Image object>"
      ]
     },
     "metadata": {
      "image/jpeg": {
       "height": 125,
       "width": 75
      }
     },
     "output_type": "display_data"
    },
    {
     "name": "stdout",
     "output_type": "stream",
     "text": [
      "\n",
      "2. target_value = 60대  ->  model's predictions mean => 60대\n"
     ]
    },
    {
     "data": {
      "image/jpeg": "[encoded data removed]",
      "text/plain": [
       "<IPython.core.display.Image object>"
      ]
     },
     "metadata": {
      "image/jpeg": {
       "height": 125,
       "width": 75
      }
     },
     "output_type": "display_data"
    },
    {
     "name": "stdout",
     "output_type": "stream",
     "text": [
      "\n",
      "3. target_value = 20대  ->  model's predictions mean => 40대\n"
     ]
    },
    {
     "data": {
      "image/jpeg": "[encoded data removed]",
      "text/plain": [
       "<IPython.core.display.Image object>"
      ]
     },
     "metadata": {
      "image/jpeg": {
       "height": 125,
       "width": 75
      }
     },
     "output_type": "display_data"
    },
    {
     "name": "stdout",
     "output_type": "stream",
     "text": [
      "\n",
      "4. target_value = 60대  ->  model's predictions mean => 50대\n"
     ]
    },
    {
     "data": {
      "image/jpeg": "[encoded data removed]",
      "text/plain": [
       "<IPython.core.display.Image object>"
      ]
     },
     "metadata": {
      "image/jpeg": {
       "height": 125,
       "width": 75
      }
     },
     "output_type": "display_data"
    },
    {
     "name": "stdout",
     "output_type": "stream",
     "text": [
      "\n",
      "5. target_value = 20대  ->  model's predictions mean => 20대\n"
     ]
    },
    {
     "data": {
      "image/jpeg": "[encoded data removed]",
      "text/plain": [
       "<IPython.core.display.Image object>"
      ]
     },
     "metadata": {
      "image/jpeg": {
       "height": 125,
       "width": 75
      }
     },
     "output_type": "display_data"
    },
    {
     "name": "stdout",
     "output_type": "stream",
     "text": [
      "\n"
     ]
    }
   ],
   "source": [
    "from os import pread\n",
    "for idx in range(1,6):\n",
    "  x = np.expand_dims(x_test[idx], 0)\n",
    "  heatmap_mean,preds= heatmap_process_2(x)\n",
    "  filename = f'{idx}. target_value = {np.argmax(y_test[idx])*10+20}대  ->  model\\'s predictions mean => {preds*10+20}대'         #파일 제목\n",
    "  filepath = './cla_gradcam/'+filename+'.jpg'                          #파일 저장 경로\n",
    "  print(filename)\n",
    "  save_and_display_gradcam_2(x_test[idx],heatmap_mean,filepath)   \n",
    "  print('')"
   ]
  },
  {
   "cell_type": "code",
   "execution_count": null,
   "metadata": {},
   "outputs": [],
   "source": []
  }
 ],
 "metadata": {
  "accelerator": "GPU",
  "colab": {
   "authorship_tag": "ABX9TyMCE94wtZYCMNixl/cUccZO",
   "collapsed_sections": [],
   "mount_file_id": "1iQsTZ_oWepT0qts2PCkeCdkB-Pt-1cjM",
   "name": "train.ipynb",
   "version": ""
  },
  "kernelspec": {
   "display_name": "bangdoon",
   "language": "python",
   "name": "bangdoon"
  },
  "language_info": {
   "codemirror_mode": {
    "name": "ipython",
    "version": 3
   },
   "file_extension": ".py",
   "mimetype": "text/x-python",
   "name": "python",
   "nbconvert_exporter": "python",
   "pygments_lexer": "ipython3",
   "version": "3.8.5"
  }
 },
 "nbformat": 4,
 "nbformat_minor": 4
}
