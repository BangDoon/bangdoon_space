{
 "cells": [
  {
   "cell_type": "code",
   "execution_count": 2,
   "id": "1db2f330-4ca0-4ff8-8c30-bcf8de4275e8",
   "metadata": {},
   "outputs": [],
   "source": [
    "import numpy as np\n",
    "import random\n",
    "import os\n",
    "import math\n",
    "\n",
    "from glob import glob\n",
    "import pandas as pd\n",
    "import cv2\n",
    "\n",
    "import matplotlib.pyplot as plt\n",
    "import seaborn as sns"
   ]
  },
  {
   "cell_type": "code",
   "execution_count": 9,
   "id": "410d4a50-127f-4b62-87be-31ec195c44a4",
   "metadata": {},
   "outputs": [],
   "source": [
    "train_meta = pd.read_csv('./dataset/train_meta.csv')"
   ]
  },
  {
   "cell_type": "code",
   "execution_count": 10,
   "id": "c44ce437-1933-4e84-b54d-1f4c0b513948",
   "metadata": {},
   "outputs": [
    {
     "data": {
      "text/html": [
       "<div>\n",
       "<style scoped>\n",
       "    .dataframe tbody tr th:only-of-type {\n",
       "        vertical-align: middle;\n",
       "    }\n",
       "\n",
       "    .dataframe tbody tr th {\n",
       "        vertical-align: top;\n",
       "    }\n",
       "\n",
       "    .dataframe thead th {\n",
       "        text-align: right;\n",
       "    }\n",
       "</style>\n",
       "<table border=\"1\" class=\"dataframe\">\n",
       "  <thead>\n",
       "    <tr style=\"text-align: right;\">\n",
       "      <th></th>\n",
       "      <th>img_name</th>\n",
       "      <th>day_in_temp</th>\n",
       "      <th>night_in_temp</th>\n",
       "      <th>day_in_humi</th>\n",
       "      <th>night_in_humi</th>\n",
       "      <th>day_co2</th>\n",
       "      <th>night_co2</th>\n",
       "      <th>day_ec</th>\n",
       "      <th>night_ec</th>\n",
       "      <th>day_water</th>\n",
       "      <th>night_water</th>\n",
       "      <th>day_white</th>\n",
       "      <th>night_white</th>\n",
       "      <th>day_red</th>\n",
       "      <th>night_red</th>\n",
       "      <th>day_blue</th>\n",
       "      <th>night_blue</th>\n",
       "    </tr>\n",
       "  </thead>\n",
       "  <tbody>\n",
       "    <tr>\n",
       "      <th>0</th>\n",
       "      <td>CASE68_20</td>\n",
       "      <td>27.116618</td>\n",
       "      <td>28.453939</td>\n",
       "      <td>53.342941</td>\n",
       "      <td>54.650454</td>\n",
       "      <td>509.450000</td>\n",
       "      <td>500.798485</td>\n",
       "      <td>1.599183</td>\n",
       "      <td>1.565686</td>\n",
       "      <td>736.204412</td>\n",
       "      <td>679.852121</td>\n",
       "      <td>48.680882</td>\n",
       "      <td>38.184848</td>\n",
       "      <td>0.0</td>\n",
       "      <td>0.0</td>\n",
       "      <td>0.0</td>\n",
       "      <td>0.0</td>\n",
       "    </tr>\n",
       "    <tr>\n",
       "      <th>1</th>\n",
       "      <td>CASE68_12</td>\n",
       "      <td>28.505441</td>\n",
       "      <td>31.693788</td>\n",
       "      <td>51.913088</td>\n",
       "      <td>48.921364</td>\n",
       "      <td>494.114706</td>\n",
       "      <td>470.840909</td>\n",
       "      <td>1.609451</td>\n",
       "      <td>1.557863</td>\n",
       "      <td>766.966985</td>\n",
       "      <td>720.930288</td>\n",
       "      <td>48.354412</td>\n",
       "      <td>38.025758</td>\n",
       "      <td>0.0</td>\n",
       "      <td>0.0</td>\n",
       "      <td>0.0</td>\n",
       "      <td>0.0</td>\n",
       "    </tr>\n",
       "    <tr>\n",
       "      <th>2</th>\n",
       "      <td>CASE68_06</td>\n",
       "      <td>27.910441</td>\n",
       "      <td>27.757576</td>\n",
       "      <td>43.995000</td>\n",
       "      <td>41.884697</td>\n",
       "      <td>465.029412</td>\n",
       "      <td>467.578788</td>\n",
       "      <td>1.588465</td>\n",
       "      <td>1.589531</td>\n",
       "      <td>765.624250</td>\n",
       "      <td>689.128561</td>\n",
       "      <td>48.119118</td>\n",
       "      <td>37.953030</td>\n",
       "      <td>0.0</td>\n",
       "      <td>0.0</td>\n",
       "      <td>0.0</td>\n",
       "      <td>0.0</td>\n",
       "    </tr>\n",
       "    <tr>\n",
       "      <th>3</th>\n",
       "      <td>CASE68_23</td>\n",
       "      <td>23.798823</td>\n",
       "      <td>24.180757</td>\n",
       "      <td>52.798823</td>\n",
       "      <td>53.071515</td>\n",
       "      <td>470.408824</td>\n",
       "      <td>463.263636</td>\n",
       "      <td>1.691348</td>\n",
       "      <td>1.688371</td>\n",
       "      <td>765.936294</td>\n",
       "      <td>707.052121</td>\n",
       "      <td>48.566176</td>\n",
       "      <td>38.530303</td>\n",
       "      <td>0.0</td>\n",
       "      <td>0.0</td>\n",
       "      <td>0.0</td>\n",
       "      <td>0.0</td>\n",
       "    </tr>\n",
       "    <tr>\n",
       "      <th>4</th>\n",
       "      <td>CASE68_14</td>\n",
       "      <td>26.723088</td>\n",
       "      <td>32.251212</td>\n",
       "      <td>52.098235</td>\n",
       "      <td>49.665303</td>\n",
       "      <td>496.963235</td>\n",
       "      <td>516.692424</td>\n",
       "      <td>1.672478</td>\n",
       "      <td>1.585736</td>\n",
       "      <td>755.845265</td>\n",
       "      <td>682.755364</td>\n",
       "      <td>48.510294</td>\n",
       "      <td>38.139394</td>\n",
       "      <td>0.0</td>\n",
       "      <td>0.0</td>\n",
       "      <td>0.0</td>\n",
       "      <td>0.0</td>\n",
       "    </tr>\n",
       "  </tbody>\n",
       "</table>\n",
       "</div>"
      ],
      "text/plain": [
       "    img_name  day_in_temp  night_in_temp  day_in_humi  night_in_humi  \\\n",
       "0  CASE68_20    27.116618      28.453939    53.342941      54.650454   \n",
       "1  CASE68_12    28.505441      31.693788    51.913088      48.921364   \n",
       "2  CASE68_06    27.910441      27.757576    43.995000      41.884697   \n",
       "3  CASE68_23    23.798823      24.180757    52.798823      53.071515   \n",
       "4  CASE68_14    26.723088      32.251212    52.098235      49.665303   \n",
       "\n",
       "      day_co2   night_co2    day_ec  night_ec   day_water  night_water  \\\n",
       "0  509.450000  500.798485  1.599183  1.565686  736.204412   679.852121   \n",
       "1  494.114706  470.840909  1.609451  1.557863  766.966985   720.930288   \n",
       "2  465.029412  467.578788  1.588465  1.589531  765.624250   689.128561   \n",
       "3  470.408824  463.263636  1.691348  1.688371  765.936294   707.052121   \n",
       "4  496.963235  516.692424  1.672478  1.585736  755.845265   682.755364   \n",
       "\n",
       "   day_white  night_white  day_red  night_red  day_blue  night_blue  \n",
       "0  48.680882    38.184848      0.0        0.0       0.0         0.0  \n",
       "1  48.354412    38.025758      0.0        0.0       0.0         0.0  \n",
       "2  48.119118    37.953030      0.0        0.0       0.0         0.0  \n",
       "3  48.566176    38.530303      0.0        0.0       0.0         0.0  \n",
       "4  48.510294    38.139394      0.0        0.0       0.0         0.0  "
      ]
     },
     "execution_count": 10,
     "metadata": {},
     "output_type": "execute_result"
    }
   ],
   "source": [
    "train_meta.head()"
   ]
  },
  {
   "cell_type": "code",
   "execution_count": 11,
   "id": "c5d5bfdc-fd1a-4e91-ac81-2f07976db9c4",
   "metadata": {},
   "outputs": [
    {
     "name": "stdout",
     "output_type": "stream",
     "text": [
      "<class 'pandas.core.frame.DataFrame'>\n",
      "RangeIndex: 1592 entries, 0 to 1591\n",
      "Data columns (total 17 columns):\n",
      " #   Column         Non-Null Count  Dtype  \n",
      "---  ------         --------------  -----  \n",
      " 0   img_name       1592 non-null   object \n",
      " 1   day_in_temp    1592 non-null   float64\n",
      " 2   night_in_temp  1592 non-null   float64\n",
      " 3   day_in_humi    1592 non-null   float64\n",
      " 4   night_in_humi  1592 non-null   float64\n",
      " 5   day_co2        1592 non-null   float64\n",
      " 6   night_co2      1592 non-null   float64\n",
      " 7   day_ec         1592 non-null   float64\n",
      " 8   night_ec       1592 non-null   float64\n",
      " 9   day_water      1592 non-null   float64\n",
      " 10  night_water    1592 non-null   float64\n",
      " 11  day_white      1592 non-null   float64\n",
      " 12  night_white    1592 non-null   float64\n",
      " 13  day_red        1592 non-null   float64\n",
      " 14  night_red      1592 non-null   float64\n",
      " 15  day_blue       1592 non-null   float64\n",
      " 16  night_blue     1592 non-null   float64\n",
      "dtypes: float64(16), object(1)\n",
      "memory usage: 211.6+ KB\n"
     ]
    }
   ],
   "source": [
    "train_meta.info()"
   ]
  },
  {
   "cell_type": "code",
   "execution_count": 16,
   "id": "17d48bec-87e6-4258-94df-72e5c792df36",
   "metadata": {},
   "outputs": [
    {
     "name": "stdout",
     "output_type": "stream",
     "text": [
      "Index(['img_name', 'day_in_temp', 'night_in_temp', 'day_in_humi',\n",
      "       'night_in_humi', 'day_co2', 'night_co2', 'day_ec', 'night_ec',\n",
      "       'day_water', 'night_water', 'day_white', 'night_white', 'day_red',\n",
      "       'night_red', 'day_blue', 'night_blue'],\n",
      "      dtype='object')\n"
     ]
    },
    {
     "data": {
      "image/png": "[encoded data removed]",
      "text/plain": [
       "<Figure size 1008x1008 with 16 Axes>"
      ]
     },
     "metadata": {
      "needs_background": "light"
     },
     "output_type": "display_data"
    }
   ],
   "source": [
    "plot_cols_list = train_meta.columns[0:]\n",
    "print(plot_cols_list)\n",
    "\n",
    "train_meta[plot_cols_list].hist(figsize=(14,14), grid = True, layout = (4,4), bins = 50)\n",
    "plt.show()"
   ]
  },
  {
   "cell_type": "code",
   "execution_count": null,
   "id": "e0e0562e-eb0e-4d1a-a885-b39483c78c49",
   "metadata": {},
   "outputs": [],
   "source": []
  }
 ],
 "metadata": {
  "kernelspec": {
   "display_name": "py38",
   "language": "python",
   "name": "py38"
  },
  "language_info": {
   "codemirror_mode": {
    "name": "ipython",
    "version": 3
   },
   "file_extension": ".py",
   "mimetype": "text/x-python",
   "name": "python",
   "nbconvert_exporter": "python",
   "pygments_lexer": "ipython3",
   "version": "3.8.13"
  }
 },
 "nbformat": 4,
 "nbformat_minor": 5
}
